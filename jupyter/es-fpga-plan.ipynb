{
 "cells": [
  {
   "cell_type": "markdown",
   "metadata": {},
   "source": [
    "# Evolutionary Strategies for FPGA\n",
    "\n",
    "We want to generate a population of individuals (in our case it will be $1,800$-bit strings). These strings will then be used to set a configuration of the FPGA. Using evolutionary algorithms to update these $1,800$-bit strings, we hope to:\n",
    "1. Approximate basic functions (1 input, 1 output), e.g. $sin(x)$, $cos(x)$\n",
    "    - Send in 0s and expect output of 1s to test $NOT$ function\n",
    "2. More complicated functions (multiple input, 1 output), e.g. [Rastrigin function](https://en.wikipedia.org/wiki/Rastrigin_function), simple DNN applications\n",
    "3. Applications, e.g. image classification MNIST\n",
    "\n",
    "## Potential Pipeline\n",
    "\n",
    "Arbitrary Deterministic (in Evolution) Method:\n",
    "1. Initialize generation $g$ of 100 random $1,800$-bit strings from $Uniform$ distribution\n",
    "2. Draw random sample of $x$ values for $y = sin(x)$\n",
    "3. Convert those $x$ values into $kHz$\n",
    "4. Configure FPGA using the 100 random $1,800$-bit strings\n",
    "5. For each configuration of FPGA: \n",
    "    1. Send the $x$ values in $kHz$ to FPGA \n",
    "    2. Get response in volts\n",
    "    3. Convert response in volts $V$ to $y$ range\n",
    "    4. Use MSE / MAE? to calculate how badly the FPGA configuration was\n",
    "    5. Keep individuals ($1,800$-bit strings) in generation $g+1$ that are either:\n",
    "        1. Lowest 10\\% of MSE / MAE\n",
    "        2. Lowest 50\\% of MSE / MAE $\\cap$ Top 10\\% with largest hamming distance from generation $g - 1$'s population (Novelty aspect)\n",
    "\n",
    "Probabilistic Method:\n",
    "1. Initialize generation $g$ of 100 random $1,800$-bit strings from $Binomial(n=1,800, p=)$... (*NEED TO FIND OUT WHAT IS THE PROBABILITY DISTRIBUTION OF DRAWING RANDOM N-BIT STRINGS*)\n",
    "2. Draw random sample of $x$ values for $y = sin(x)$\n",
    "3. Convert those $x$ values into $kHz$\n",
    "4. Configure FPGA using the 100 random $1,800$-bit strings\n",
    "5. For each configuration of FPGA: \n",
    "    1. Send the $x$ values in $kHz$ to FPGA \n",
    "    2. Get response in volts\n",
    "    3. Convert response in volts $V$ to $y$ range\n",
    "    4. Use MSE / MAE? to calculate how badly the FPGA configuration was\n",
    "    5. Keep individuals ($1,800$-bit strings) in generation $g+1$ that are either:\n",
    "        1. Sample \n",
    "        2. Use the hamming-distance-based $k$-NN Novelty scores to  increase the probabilities that novel $1,800$-bit strings will be sampled\n",
    "\n",
    "### What we still need\n",
    "1. A mapping of interpretable numerical input $x$ to frequency domain $kHz$\n",
    "2. A mapping of volts $V$ output to interpretable numerical $y = sin(x)$\n",
    "3. Conversion of traditional loss functions like $l_1, l_2$ loss to *hamming distance*-related loss so that we can properly evaluate the fitness of the bit-strings we use to configure the FPGA to perform evolutionary strategies\n",
    "4. Calculate $k$ Nearest Neighbors using *hamming distance* between generation $(g + 1)$'s bit-strings and previous generation $g$'s bit-strings for novelty search implementation\n",
    "\n",
    "### Table of Contents\n",
    "1. [Simple Genetic Algo](#sga)\n",
    "2. [Novelty Search - Evolutionary Strategy](#ns-es)"
   ]
  },
  {
   "cell_type": "code",
   "execution_count": 1,
   "metadata": {},
   "outputs": [
    {
     "name": "stdout",
     "output_type": "stream",
     "text": [
      "Random 1,800 bit string: \n",
      "\n",
      "111001010101100000000001000010100010100110100100000111001110110111000001001101111001011111011000010101011011101011000011000000000010000100101111110011100101101010100100110110001000011101011100011110010011111011000011010001111011010110010110110001011111110111101011001100001101010101011111010100110100001001110110111111111011100111100001011101010110100011011100100010000111000001100111111110111110111110101101111111001111111110001001000011010100111001001101000011111000101011111100100100111101110111001011010000101101011110111100001101001001001011011101011000111010010000101101001010011101001101010001111000101101011100101000111000101100011011000101101000011111101010000111100001000001101001010100100110100000011101011110100111111000100000110010100000110100101010010111101000010111001111000101001100000010111011101100111111011111101010001000000111001111110010001110110001101001001001001101110000101101111011001000000000011110111010011110100010110111000001100111000111100110001011001111110010100000110111100010000010001010100011100100010100010011100000101010110010011111010100101100100001000011010110101101101000100110000010011011110001011111101011010010011011010100010110011111100011000010111011111110100000011000001101110001010001110101111010001100010101001001100111100000000001010010111011001100101011110101111011100100101110110011000110001011011100010010101001100010101011111000100011010001011110000010000000000111010001101001111011011110010001101000110100101000010111000110011000101101101010000000110111011110010010100001001001110000110001011110101001101001010110100010100001100100101010001001111011011100000011101010010111011011010011101111111100001100000101001110110100111000111101110110000100100110001110001001100101110001000011000100110000010010100110110101110010100100001010110110111000000001\n"
     ]
    }
   ],
   "source": [
    "# Library\n",
    "import random\n",
    "\n",
    "# Number of bits for strings\n",
    "N = 1800\n",
    "\n",
    "print('Random 1,800 bit string: \\n\\n{}'.format(bin(random.getrandbits(N))[2:]))"
   ]
  },
  {
   "cell_type": "markdown",
   "metadata": {},
   "source": [
    "---\n",
    "## Simple Genetic Algorithm"
   ]
  },
  {
   "cell_type": "markdown",
   "metadata": {},
   "source": [
    "1. Import the module"
   ]
  },
  {
   "cell_type": "code",
   "execution_count": 2,
   "metadata": {},
   "outputs": [],
   "source": [
    "from pyeasyga import pyeasyga"
   ]
  },
  {
   "cell_type": "markdown",
   "metadata": {},
   "source": [
    "2. Setup your data"
   ]
  },
  {
   "cell_type": "code",
   "execution_count": 3,
   "metadata": {},
   "outputs": [],
   "source": [
    "# TODO: Change this for the FPGA to pass to fitness function\n",
    "data = [('pear', 50), ('apple', 35), ('banana', 40)]"
   ]
  },
  {
   "cell_type": "markdown",
   "metadata": {},
   "source": [
    "3. Initialise the GeneticAlgorithm class with the required data parameter, and all or some of the optional parameters"
   ]
  },
  {
   "cell_type": "code",
   "execution_count": 4,
   "metadata": {},
   "outputs": [],
   "source": [
    "ga = pyeasyga.GeneticAlgorithm(\n",
    "    data,\n",
    "    population_size=10,\n",
    "    generations=20,\n",
    "    crossover_probability=0.8,\n",
    "    mutation_probability=0.05,\n",
    "    elitism=True,\n",
    "    maximise_fitness=True\n",
    ")"
   ]
  },
  {
   "cell_type": "markdown",
   "metadata": {},
   "source": [
    "4. Optionally, define a function to create a representation of a candidate solution (an individual in GA speak). This function should take in the data defined in step 1. as a parameter."
   ]
  },
  {
   "cell_type": "code",
   "execution_count": 5,
   "metadata": {},
   "outputs": [],
   "source": [
    "# TODO: Change this for 1800 bit string\n",
    "def create_individual(data):\n",
    "    return [random.randint(0, 1) for _ in range(len(data))]"
   ]
  },
  {
   "cell_type": "markdown",
   "metadata": {},
   "source": [
    "5. Set the Genetic Algorithm’s create_individual attribute to your defined function"
   ]
  },
  {
   "cell_type": "code",
   "execution_count": 6,
   "metadata": {},
   "outputs": [],
   "source": [
    "ga.create_individual = create_individual"
   ]
  },
  {
   "cell_type": "markdown",
   "metadata": {},
   "source": [
    "6. Optionally, define and set functions for the Genetic Algorithm’s genetic operators (i.e. crossover, mutate, selection)"
   ]
  },
  {
   "cell_type": "code",
   "execution_count": 7,
   "metadata": {},
   "outputs": [],
   "source": [
    "# For the crossover function, supply two individuals (i.e. candidate\n",
    "# solution representations) as parameters,\n",
    "def single_point_crossover(parent_1, parent_2):\n",
    "    crossover_index = random.randrange(1, len(parent_1))\n",
    "    child_1 = parent_1[:crossover_index] + parent_2[crossover_index:]\n",
    "    child_2 = parent_2[:crossover_index] + parent_1[crossover_index:]\n",
    "    return child_1, child_2\n",
    "\n",
    "# and set the Genetic Algorithm's ``crossover_function`` attribute to\n",
    "# your defined function\n",
    "ga.crossover_function = single_point_crossover"
   ]
  },
  {
   "cell_type": "code",
   "execution_count": 8,
   "metadata": {},
   "outputs": [],
   "source": [
    "# For the mutate function, supply one individual (i.e. a candidate\n",
    "# solution representation) as a parameter,\n",
    "def mutate(individual):\n",
    "    mutate_index = random.randrange(len(individual))\n",
    "    if individual[mutate_index] == 0:\n",
    "        individual[mutate_index] = 1\n",
    "    else:\n",
    "        individual[mutate_index] = 0\n",
    "\n",
    "# and set the Genetic Algorithm's ``mutate_function`` attribute to\n",
    "# your defined function\n",
    "ga.mutate_function = mutate"
   ]
  },
  {
   "cell_type": "code",
   "execution_count": 9,
   "metadata": {},
   "outputs": [],
   "source": [
    "# For the selection function, supply a ``population`` parameter\n",
    "def selection(population):\n",
    "    return random.choice(population)\n",
    "\n",
    "# and set the Genetic Algorithm's ``selection_function`` attribute to\n",
    "# your defined function\n",
    "ga.selection_function = selection"
   ]
  },
  {
   "cell_type": "markdown",
   "metadata": {},
   "source": [
    "7. Define a fitness function for the Genetic Algorithm. The function should take two parameters: a candidate solution representation (an individual in GA speak), and the data that is used to help determine the individual’s fitness"
   ]
  },
  {
   "cell_type": "code",
   "execution_count": 11,
   "metadata": {},
   "outputs": [],
   "source": [
    "# TODO: Adjust this to measure fitness for FPGA\n",
    "#       For example, to approximate sine function\n",
    "def fitness(individual, data):\n",
    "    fitness = 0\n",
    "    if individual.count(1) == 2:\n",
    "        for (selected, (fruit, profit)) in zip(individual, data):\n",
    "            if selected:\n",
    "                fitness += profit\n",
    "    return fitness"
   ]
  },
  {
   "cell_type": "markdown",
   "metadata": {},
   "source": [
    "8. Set the Genetic Algorithm’s fitness_function attribute to your defined fitness function"
   ]
  },
  {
   "cell_type": "code",
   "execution_count": 12,
   "metadata": {},
   "outputs": [],
   "source": [
    "ga.fitness_function = fitness"
   ]
  },
  {
   "cell_type": "markdown",
   "metadata": {},
   "source": [
    "9. Run the Genetic Algorithm"
   ]
  },
  {
   "cell_type": "code",
   "execution_count": 13,
   "metadata": {},
   "outputs": [],
   "source": [
    "ga.run()"
   ]
  },
  {
   "cell_type": "markdown",
   "metadata": {},
   "source": [
    "10. Print the best solution:"
   ]
  },
  {
   "cell_type": "code",
   "execution_count": 14,
   "metadata": {},
   "outputs": [
    {
     "name": "stdout",
     "output_type": "stream",
     "text": [
      "(90, [1, 0, 1])\n"
     ]
    }
   ],
   "source": [
    "print(ga.best_individual())"
   ]
  },
  {
   "cell_type": "markdown",
   "metadata": {},
   "source": [
    "11. You can also examine all the individuals in the last generation:"
   ]
  },
  {
   "cell_type": "code",
   "execution_count": 15,
   "metadata": {},
   "outputs": [
    {
     "name": "stdout",
     "output_type": "stream",
     "text": [
      "(90, [1, 0, 1])\n",
      "(85, [1, 1, 0])\n",
      "(85, [1, 1, 0])\n",
      "(0, [1, 1, 1])\n",
      "(0, [1, 1, 1])\n",
      "(0, [0, 1, 0])\n",
      "(0, [1, 1, 1])\n",
      "(0, [1, 1, 1])\n",
      "(0, [1, 1, 1])\n",
      "(0, [1, 1, 1])\n"
     ]
    }
   ],
   "source": [
    "for individual in ga.last_generation():\n",
    "    print(individual)"
   ]
  },
  {
   "cell_type": "markdown",
   "metadata": {},
   "source": [
    "---\n",
    "## Covariance-Matrix Adaptation\n",
    "\n"
   ]
  },
  {
   "cell_type": "code",
   "execution_count": null,
   "metadata": {},
   "outputs": [],
   "source": []
  },
  {
   "cell_type": "code",
   "execution_count": null,
   "metadata": {},
   "outputs": [],
   "source": []
  }
 ],
 "metadata": {
  "kernelspec": {
   "display_name": "Python 3",
   "language": "python",
   "name": "python3"
  },
  "language_info": {
   "codemirror_mode": {
    "name": "ipython",
    "version": 3
   },
   "file_extension": ".py",
   "mimetype": "text/x-python",
   "name": "python",
   "nbconvert_exporter": "python",
   "pygments_lexer": "ipython3",
   "version": "3.7.3"
  }
 },
 "nbformat": 4,
 "nbformat_minor": 2
}
