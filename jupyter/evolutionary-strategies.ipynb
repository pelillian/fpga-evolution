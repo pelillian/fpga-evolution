{
 "cells": [
  {
   "cell_type": "markdown",
   "metadata": {},
   "source": [
    "# Evolutionary Strategies\n",
    "\n",
    "In order to understand how we'll be evolving the FPGA to approximate any function, let's start of with a simple problem. We will try to evolve random bit strings to approximate the phrase \"`Hello, World!`\". We will encode \"`Hello, World!`\" into a stream of binary 7-bit ASCII strings. \n",
    "\n",
    "### Table of Contents\n",
    "1. [Simple Genetic Algo](#sga)"
   ]
  },
  {
   "cell_type": "code",
   "execution_count": 122,
   "metadata": {},
   "outputs": [],
   "source": [
    "# Libraries\n",
    "import operator\n",
    "# Visualization / ML Libraries\n",
    "from collections import namedtuple\n",
    "import numpy as np\n",
    "import pandas as pd\n",
    "import matplotlib\n",
    "import matplotlib.pyplot as plt\n",
    "import matplotlib.cm as cm\n",
    "import matplotlib.font_manager as fm\n",
    "import matplotlib.patches as mpatches\n",
    "from mpl_toolkits.axes_grid1.anchored_artists import AnchoredSizeBar\n",
    "import seaborn as sns\n",
    "from sklearn.datasets import make_spd_matrix\n",
    "\n",
    "# plotting defaults\n",
    "plt.rcParams['figure.dpi'] = 300\n",
    "plt.rcParams['figure.figsize'] = (18, 12)\n",
    "get_colors = lambda length: plt.get_cmap('Spectral')(np.linspace(0, 1.0, length))\n",
    "\n",
    "np.random.seed(seed=100)"
   ]
  },
  {
   "cell_type": "code",
   "execution_count": 123,
   "metadata": {},
   "outputs": [],
   "source": [
    "plt.rcParams['figure.dpi'] = 300\n",
    "plt.rcParams['figure.figsize'] = (18, 12)"
   ]
  },
  {
   "cell_type": "markdown",
   "metadata": {},
   "source": [
    "### Helper functions"
   ]
  },
  {
   "cell_type": "code",
   "execution_count": 94,
   "metadata": {},
   "outputs": [],
   "source": [
    "# Return a random binary list of length N\n",
    "# drawn from uniform distribution\n",
    "random_bits = lambda N: np.random.choice([0, 1], size=(N,), p=[0.5, 0.5])\n",
    "\n",
    "# Converts text to bit string\n",
    "def text_to_bits(text, encoding='utf-8', errors='surrogatepass'):\n",
    "    bits = bin(int.from_bytes(text.encode(encoding, errors), 'big'))[2:]\n",
    "    return bits.zfill(8 * ((len(bits) + 7) // 8))\n",
    "\n",
    "# Converts bit string to normal text\n",
    "def text_from_bits(bits, encoding='utf-8', errors='surrogatepass'):\n",
    "    n = int(bits, 2)\n",
    "    return n.to_bytes((n.bit_length() + 7) // 8, 'big').decode(encoding, errors) or '\\0'"
   ]
  },
  {
   "cell_type": "code",
   "execution_count": 92,
   "metadata": {},
   "outputs": [
    {
     "data": {
      "text/plain": [
       "'Hello, World!'"
      ]
     },
     "execution_count": 92,
     "metadata": {},
     "output_type": "execute_result"
    }
   ],
   "source": [
    "text_from_bits(text_to_bits('Hello, World!'))"
   ]
  },
  {
   "cell_type": "markdown",
   "metadata": {},
   "source": [
    "---\n",
    "## Simple Genetic Algorithm<a id='sga'></a>\n",
    "\n",
    "Pseudo-code of Evolutionary Strategy:\n",
    "\n",
    "Step One: Generate the initial population of individuals randomly. (First generation)\n",
    "\n",
    "Step Two: Evaluate the fitness of each individual in that population (time limit, sufficient fitness achieved, etc.)\n",
    "\n",
    "Step Three: Repeat the following regenerational steps until termination:\n",
    "- Select the best-fit individuals for reproduction. (Parents)\n",
    "    1. Breed new individuals through crossover and mutation operations to give birth to offspring.\n",
    "    2. Evaluate the individual fitness of new individuals.\n",
    "    3. Replace least-fit population with new individuals."
   ]
  },
  {
   "cell_type": "markdown",
   "metadata": {},
   "source": [
    "Get Target word's bit-string representation"
   ]
  },
  {
   "cell_type": "code",
   "execution_count": 93,
   "metadata": {},
   "outputs": [],
   "source": [
    "target_word = 'Hello, World!'\n",
    "target_word_bits = [int(bit) for bit in text_to_bits(target_word)]"
   ]
  },
  {
   "cell_type": "markdown",
   "metadata": {},
   "source": [
    "### 1. Create Population: Generate Random Individuals"
   ]
  },
  {
   "cell_type": "code",
   "execution_count": 98,
   "metadata": {},
   "outputs": [],
   "source": [
    "pop_size = 100\n",
    "population = [[bit for bit in random_bits(len(target_word_bits))] for _ in range(pop_size)]"
   ]
  },
  {
   "cell_type": "markdown",
   "metadata": {},
   "source": [
    "Since our population is represented as a matrix, it might be possible to use matrix operations to compute the fitness of each individual (row of matrix)."
   ]
  },
  {
   "cell_type": "markdown",
   "metadata": {},
   "source": [
    "### 2. Get Fitness of individiuals\n",
    "\n",
    "Let's define a fitness function. Because we'll be evaluating how much a bit-string matches another bit-string, we'll use the cosine similarity as a measure of fitness:\n",
    "\n",
    "$$\n",
    "\\begin{aligned}\n",
    "cos(\\theta) &= \\frac{\\vec{\\mathbf{a}} \\cdot \\vec{\\mathbf{b}}}{\\vert\\vert\\vec{\\mathbf{a}}\\vert\\vert\\cdot\\vert\\vert\\vec{\\mathbf{b}}\\vert\\vert}, -1 \\leq cos(\\theta) \\leq 1\n",
    "\\end{aligned}\n",
    "$$"
   ]
  },
  {
   "cell_type": "code",
   "execution_count": 41,
   "metadata": {},
   "outputs": [],
   "source": [
    "def fitness(individual, target_word_bits=target_word_bits):\n",
    "    '''\n",
    "    Function:\n",
    "    ---------\n",
    "    Determines the fitness of an individual based\n",
    "    on cosine similarity to bit-string\n",
    "    \n",
    "    Parameters:\n",
    "    -----------\n",
    "    individual: (list) List of 0s and 1s\n",
    "    target_word_bits: (list) list of 0s and 1s representing the target word \n",
    "    \n",
    "    Returns:\n",
    "    --------\n",
    "    fitness score (cosine similarity) of the inidividual\n",
    "    '''\n",
    "    \n",
    "    # Function to calculate cosine similarity\n",
    "    # between 2 vectors\n",
    "    cos_similarity = lambda a, b: np.dot(a, b) / (np.linalg.norm(a) * np.linalg.norm(b))\n",
    "    \n",
    "    return cos_similarity(individual, target_word_bits)"
   ]
  },
  {
   "cell_type": "markdown",
   "metadata": {},
   "source": [
    "### 3. Select Mating Pool"
   ]
  },
  {
   "cell_type": "code",
   "execution_count": 152,
   "metadata": {},
   "outputs": [],
   "source": [
    "def select_mating_pool(population, \n",
    "                       target_word_bits=target_word_bits, \n",
    "                       elite_proportion=0.2, \n",
    "                       selection_method='fitness-proportionate'):\n",
    "    '''\n",
    "    Function:\n",
    "    ---------\n",
    "    Generates new mating pool for next generation of evolution\n",
    "    using a combination of elite individuals from current population\n",
    "    and selecting individuals based on selection method specified\n",
    "    \n",
    "    Parameters:\n",
    "    -----------\n",
    "    population: (list) List of [0, 1, 1, 0, ...] specifying an individual\n",
    "    target_word_bits: (list) List of [0, 1, 1, 0, ...] specifying the target word to be approximated\n",
    "    elite_proportion: Proportion of current population we want to preserve to mate as the elite\n",
    "    selection_method: The selection method to choose which individuals to mate\n",
    "        - Choose from:\n",
    "            1. fitness-proportionate\n",
    "            2. truncation\n",
    "            3. tournament\n",
    "            4. stochastic-universal-sampling\n",
    "            5. reward-based\n",
    "    \n",
    "    Returns:\n",
    "    --------\n",
    "    A list of the new mating pool to be used for the next stage \n",
    "    of the simple genetic algorithm, breeding and average fitness score\n",
    "    of the population\n",
    "    '''\n",
    "    \n",
    "    # ========= Local Scope Variables =========\n",
    "    \n",
    "    # Final mating pool\n",
    "    mating_pool = []\n",
    "    \n",
    "    # Named tuple of Individuals\n",
    "    Individual = namedtuple('Individual', ['value', 'fitness_score'])\n",
    "    \n",
    "    # ========= Selection Functions =========\n",
    "    \n",
    "    def fitness_proportionate_selection(population_sorted_by_fitness, num_to_select):\n",
    "        '''\n",
    "        Function:\n",
    "        ---------\n",
    "        Selects individuals from population using the fitness proportionate selection\n",
    "        algorithm. Higher probability of selection is given to individuals with\n",
    "        a higher normalized fitness score, where normalized fitness score sum to \n",
    "        1.0\n",
    "        \n",
    "        Parameters:\n",
    "        -----------\n",
    "        population_sorted_by_fitness: (list: Individual(value=[0, 1, 0, 1, 1, ...], fitness_score))\n",
    "        num_to_select: (int) Number of individuals to be selected to add into mating pool\n",
    "        \n",
    "        Returns:\n",
    "        --------\n",
    "        List of Individual's value list - [[0, 1, 0, 1, 1, ...], [0, 1, 0, 1, 1, ...], ...]\n",
    "        '''\n",
    "        \n",
    "        # The selected individuals to mate in\n",
    "        # the next generation\n",
    "        selected_individuals = []\n",
    "        \n",
    "        # 1. The fitness function is evaluated for each \n",
    "        # individual, providing fitness values, which are \n",
    "        # then normalized. Normalization means dividing the \n",
    "        # fitness value of each individual by the sum of all \n",
    "        # fitness values, so that the sum of all resulting \n",
    "        # fitness values equals 1.\n",
    "        values, fitness_scores = list(zip(*population_sorted_by_fitness))\n",
    "        normalized_fitness_scores = fitness_scores / np.sum(fitness_scores)\n",
    "\n",
    "        # 2. The population is sorted by ASCENDING fitness \n",
    "        # values.\n",
    "        population_sorted_by_normalized_fitness_scores = \\\n",
    "            sorted(list(zip(values, normalized_fitness_scores)), key=operator.itemgetter(1), reverse=False)\n",
    "\n",
    "        # 3. Accumulated normalized fitness values are computed: \n",
    "        # the accumulated fitness value of an individual is the \n",
    "        # sum of its own fitness value plus the fitness values \n",
    "        # of all the previous individuals; the accumulated \n",
    "        # fitness of the last individual should be 1, otherwise \n",
    "        # something went wrong in the normalization step.\n",
    "        values, normalized_fitness_scores = list(zip(*population_sorted_by_normalized_fitness_scores))\n",
    "        population_sorted_by_cum_normalized_fitness_scores = \\\n",
    "            [Individual(value=value, fitness_score=fitness_score) for value, fitness_score in list(zip(values, np.cumsum(normalized_fitness_scores)))]\n",
    "        \n",
    "        while len(selected_individuals) < num_to_select:\n",
    "\n",
    "            # 4. A random number R between 0 and 1 is chosen. \n",
    "            # (Uniform distribution)\n",
    "            R = np.random.random(1)[0]\n",
    "            \n",
    "            # 5. The selected individual is the last one whose \n",
    "            # accumulated normalized value is greater than or \n",
    "            # equal to R. Intuitively, we want the individuals \n",
    "            # with the greatest fitness to have a higher probability \n",
    "            # of being chosen\n",
    "            \n",
    "            # We set the last individual as the selected one\n",
    "            # as it has the highest fitness score. However, \n",
    "            # let's find the smallest fitness score individual\n",
    "            # that is > R\n",
    "            selected_individual = population_sorted_by_cum_normalized_fitness_scores[-1]\n",
    "            \n",
    "            # Jeff: We'll use a modified version of \n",
    "            # binary search here to find the lowest fitness score\n",
    "            # of individual that is greater than R\n",
    "            # O(log(N))\n",
    "            left_idx, right_idx = 0, len(population_sorted_by_cum_normalized_fitness_scores) - 1\n",
    "            while left_idx < right_idx:\n",
    "                \n",
    "                mid_idx = (right_idx + left_idx) // 2\n",
    "                \n",
    "                # Case 1: R is on right side of list\n",
    "                if population_sorted_by_cum_normalized_fitness_scores[mid_idx].fitness_score < R:\n",
    "                    \n",
    "                    left_idx = mid_idx + 1\n",
    "                    \n",
    "                # Case 2: R is on left side of list\n",
    "                elif population_sorted_by_cum_normalized_fitness_scores[mid_idx].fitness_score > R:\n",
    "                    \n",
    "                    # Doing this keeps track of the last individual that \n",
    "                    # has a higher fitness score than R\n",
    "                    selected_individual = population_sorted_by_cum_normalized_fitness_scores[mid_idx]\n",
    "                    right_idx = mid_idx - 1\n",
    "                \n",
    "                # Case 3: R is this\n",
    "                else:\n",
    "                    selected_individual = population_sorted_by_cum_normalized_fitness_scores[mid_idx]\n",
    "    \n",
    "            # Add selected individual to the mating pool\n",
    "            selected_individuals.append(selected_individual) \n",
    "        \n",
    "        return [individual.value for individual in selected_individuals]\n",
    "    \n",
    "    def truncation_selection():\n",
    "        '''\n",
    "        UNDER CONSTRUCTION\n",
    "        '''\n",
    "        return None\n",
    "    \n",
    "    def tournament_selection():\n",
    "        '''\n",
    "        UNDER CONSTRUCTION\n",
    "        '''\n",
    "        return None\n",
    "    \n",
    "    def stochastic_universal_sampling_selection():\n",
    "        '''\n",
    "        UNDER CONSTRUCTION\n",
    "        '''\n",
    "        return None\n",
    "    \n",
    "    def reward_based_selection():\n",
    "        '''\n",
    "        UNDER CONSTRUCTION\n",
    "        '''\n",
    "        return None\n",
    "    \n",
    "    # ========= Mating Pool Generation Procedure =========\n",
    "    \n",
    "    # 1. Get sorted list of individuals in population\n",
    "    # by cosine similarity with target_word_bits\n",
    "    # (fittest individuals at start of the list)\n",
    "    population_sorted_by_fitness = \\\n",
    "        sorted([Individual(value=value, fitness_score=fitness(value)) for value in population], \n",
    "               key=operator.itemgetter(1), \n",
    "               reverse=True)\n",
    "    \n",
    "    # Average fitness score of population\n",
    "    avg_fitness_score = np.mean(list(zip(*population_sorted_by_fitness))[1])\n",
    "    \n",
    "    # 2. Enforce elitism by copying a number\n",
    "    # of the fittest individuals to the mating pool\n",
    "    # and select the rest to fill the population\n",
    "    # using the selection methods below\n",
    "    elite_size = int(elite_proportion * len(population_sorted_by_fitness))\n",
    "    mating_pool += \\\n",
    "        [individual.value for individual in population_sorted_by_fitness[:elite_size]]\n",
    "    \n",
    "    # 3. Choose method to select the individuals\n",
    "    # to fill up the rest of the non-elite \n",
    "    # mating pool\n",
    "    non_elite_size = len(population_sorted_by_fitness) - elite_size\n",
    "    \n",
    "    if selection_method == 'fitness-proportionate':\n",
    "        return (mating_pool + fitness_proportionate_selection(population_sorted_by_fitness, num_to_select=non_elite_size), avg_fitness_score)\n",
    "    elif selection_method == 'truncation':\n",
    "        return (mating_pool + truncation_selection(), avg_fitness_score)\n",
    "    elif selection_method == 'tournament':\n",
    "        return (mating_pool + tournament_selection(), avg_fitness_score)\n",
    "    elif selection_method == 'stochastic-universal-sampling':\n",
    "        return (mating_pool + stochastic_universal_sampling_selection(), avg_fitness_score)\n",
    "    elif selection_method == 'reward-based':\n",
    "        return (mating_pool + reward_based_selection(), avg_fitness_score)\n",
    "    else:\n",
    "        print('No such method exists')"
   ]
  },
  {
   "cell_type": "markdown",
   "metadata": {},
   "source": [
    "### 4. Breed"
   ]
  },
  {
   "cell_type": "code",
   "execution_count": null,
   "metadata": {},
   "outputs": [],
   "source": [
    "def breed():\n",
    "    '''\n",
    "    '''\n",
    "    return"
   ]
  },
  {
   "cell_type": "markdown",
   "metadata": {},
   "source": [
    "### 5. Mutation "
   ]
  },
  {
   "cell_type": "code",
   "execution_count": null,
   "metadata": {},
   "outputs": [],
   "source": [
    "def mutate():\n",
    "    '''\n",
    "    '''\n",
    "    return"
   ]
  },
  {
   "cell_type": "markdown",
   "metadata": {},
   "source": [
    "---\n",
    "## Covariance Matrix Adaptation - ES<a id='cma-es'></a>\n"
   ]
  },
  {
   "cell_type": "markdown",
   "metadata": {},
   "source": [
    "---\n",
    "## Particle Swarm Optimization "
   ]
  },
  {
   "cell_type": "markdown",
   "metadata": {},
   "source": [
    "---\n",
    "### Resources:\n",
    "- [Convert binary to ASCII and vice versa](https://stackoverflow.com/questions/7396849/convert-binary-to-ascii-and-vice-versa)\n",
    "- [Evolution of a salesman: A complete genetic algorithm tutorial for Python](https://towardsdatascience.com/evolution-of-a-salesman-a-complete-genetic-algorithm-tutorial-for-python-6fe5d2b3ca35)\n",
    "- [Evolutionary Algorithms Wiki](https://en.wikipedia.org/wiki/Evolutionary_algorithm)\n",
    "- [Selection methods for creating mating pool Wiki](https://en.wikipedia.org/wiki/Selection_(genetic_algorithm))\n",
    "    - [Fitness Proportionate](https://en.wikipedia.org/wiki/Fitness_proportionate_selection#Pseudocode)"
   ]
  },
  {
   "cell_type": "code",
   "execution_count": null,
   "metadata": {},
   "outputs": [],
   "source": []
  }
 ],
 "metadata": {
  "kernelspec": {
   "display_name": "Python 3",
   "language": "python",
   "name": "python3"
  },
  "language_info": {
   "codemirror_mode": {
    "name": "ipython",
    "version": 3
   },
   "file_extension": ".py",
   "mimetype": "text/x-python",
   "name": "python",
   "nbconvert_exporter": "python",
   "pygments_lexer": "ipython3",
   "version": "3.7.3"
  }
 },
 "nbformat": 4,
 "nbformat_minor": 2
}
