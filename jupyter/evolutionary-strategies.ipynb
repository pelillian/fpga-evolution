{
 "cells": [
  {
   "cell_type": "markdown",
   "metadata": {},
   "source": [
    "# Evolutionary Strategies\n",
    "\n",
    "In order to understand how we'll be evolving the FPGA to approximate any function, let's start of with a simple problem. We will try to evolve random bit strings to approximate the phrase \"`Hello, World!`\". We will encode \"`Hello, World!`\" into a stream of binary 7-bit ASCII strings. \n",
    "\n",
    "### Table of Contents\n",
    "1. [Simple Genetic Algo](#sga)"
   ]
  },
  {
   "cell_type": "code",
   "execution_count": 100,
   "metadata": {},
   "outputs": [],
   "source": [
    "# Libraries\n",
    "import operator\n",
    "# Visualization / ML Libraries\n",
    "from collections import namedtuple\n",
    "import numpy as np\n",
    "import pandas as pd\n",
    "import matplotlib\n",
    "import matplotlib.pyplot as plt\n",
    "import matplotlib.cm as cm\n",
    "import matplotlib.font_manager as fm\n",
    "import matplotlib.patches as mpatches\n",
    "from mpl_toolkits.axes_grid1.anchored_artists import AnchoredSizeBar\n",
    "import seaborn as sns\n",
    "from sklearn.datasets import make_spd_matrix\n",
    "\n",
    "# plotting defaults\n",
    "plt.rcParams['figure.dpi'] = 300\n",
    "plt.rcParams['figure.figsize'] = (18, 12)\n",
    "get_colors = lambda length: plt.get_cmap('Spectral')(np.linspace(0, 1.0, length))\n",
    "\n",
    "np.random.seed(seed=100)"
   ]
  },
  {
   "cell_type": "code",
   "execution_count": null,
   "metadata": {},
   "outputs": [],
   "source": [
    "plt.rcParams['figure.dpi'] = 300\n",
    "plt.rcParams['figure.figsize'] = (18, 12)"
   ]
  },
  {
   "cell_type": "markdown",
   "metadata": {},
   "source": [
    "### Helper functions"
   ]
  },
  {
   "cell_type": "code",
   "execution_count": 94,
   "metadata": {},
   "outputs": [],
   "source": [
    "# Return a random binary list of length N\n",
    "# drawn from uniform distribution\n",
    "random_bits = lambda N: np.random.choice([0, 1], size=(N,), p=[0.5, 0.5])\n",
    "\n",
    "# Converts text to bit string\n",
    "def text_to_bits(text, encoding='utf-8', errors='surrogatepass'):\n",
    "    bits = bin(int.from_bytes(text.encode(encoding, errors), 'big'))[2:]\n",
    "    return bits.zfill(8 * ((len(bits) + 7) // 8))\n",
    "\n",
    "# Converts bit string to normal text\n",
    "def text_from_bits(bits, encoding='utf-8', errors='surrogatepass'):\n",
    "    n = int(bits, 2)\n",
    "    return n.to_bytes((n.bit_length() + 7) // 8, 'big').decode(encoding, errors) or '\\0'"
   ]
  },
  {
   "cell_type": "code",
   "execution_count": 92,
   "metadata": {},
   "outputs": [
    {
     "data": {
      "text/plain": [
       "'Hello, World!'"
      ]
     },
     "execution_count": 92,
     "metadata": {},
     "output_type": "execute_result"
    }
   ],
   "source": [
    "text_from_bits(text_to_bits('Hello, World!'))"
   ]
  },
  {
   "cell_type": "markdown",
   "metadata": {},
   "source": [
    "---\n",
    "## Simple Genetic Algorithm<a id='sga'></a>\n",
    "\n",
    "Pseudo-code of Evolutionary Strategy:\n",
    "\n",
    "Step One: Generate the initial population of individuals randomly. (First generation)\n",
    "\n",
    "Step Two: Evaluate the fitness of each individual in that population (time limit, sufficient fitness achieved, etc.)\n",
    "\n",
    "Step Three: Repeat the following regenerational steps until termination:\n",
    "- Select the best-fit individuals for reproduction. (Parents)\n",
    "    1. Breed new individuals through crossover and mutation operations to give birth to offspring.\n",
    "    2. Evaluate the individual fitness of new individuals.\n",
    "    3. Replace least-fit population with new individuals."
   ]
  },
  {
   "cell_type": "markdown",
   "metadata": {},
   "source": [
    "Get Target word's bit-string representation"
   ]
  },
  {
   "cell_type": "code",
   "execution_count": 93,
   "metadata": {},
   "outputs": [],
   "source": [
    "target_word = 'Hello, World!'\n",
    "target_word_bits = np.array([int(bit) for bit in text_to_bits(target_word)])"
   ]
  },
  {
   "cell_type": "markdown",
   "metadata": {},
   "source": [
    "### 1. Create Population: Generate Random Individuals"
   ]
  },
  {
   "cell_type": "code",
   "execution_count": 98,
   "metadata": {},
   "outputs": [],
   "source": [
    "pop_size = 100\n",
    "population = [[bit for bit in random_bits(len(target_word_bits))] for _ in range(pop_size)]"
   ]
  },
  {
   "cell_type": "markdown",
   "metadata": {},
   "source": [
    "Since our population is represented as a matrix, it might be possible to use matrix operations to compute the fitness of each individual (row of matrix)."
   ]
  },
  {
   "cell_type": "markdown",
   "metadata": {},
   "source": [
    "### 2. Get Fitness of individiuals\n",
    "\n",
    "Let's define a fitness function. Because we'll be evaluating how much a bit-string matches another bit-string, we'll use the cosine similarity as a measure of fitness:\n",
    "\n",
    "$$\n",
    "\\begin{aligned}\n",
    "cos(\\theta) &= \\frac{\\vec{\\mathbf{a}} \\cdot \\vec{\\mathbf{b}}}{\\vert\\vert\\vec{\\mathbf{a}}\\vert\\vert\\cdot\\vert\\vert\\vec{\\mathbf{b}}\\vert\\vert}, -1 \\leq cos(\\theta) \\leq 1\n",
    "\\end{aligned}\n",
    "$$"
   ]
  },
  {
   "cell_type": "code",
   "execution_count": 41,
   "metadata": {},
   "outputs": [],
   "source": [
    "def fitness(individual, target_word_bits=target_word_bits):\n",
    "    '''\n",
    "    Function:\n",
    "    ---------\n",
    "    Determines the fitness of an individual based\n",
    "    on cosine similarity to bit-string\n",
    "    \n",
    "    Parameters:\n",
    "    -----------\n",
    "    individual: (list) List of 0s and 1s\n",
    "    target_word_bits: (list) list of 0s and 1s representing the target word \n",
    "    \n",
    "    Returns:\n",
    "    --------\n",
    "    fitness score (cosine similarity) of the inidividual\n",
    "    '''\n",
    "    \n",
    "    # Function to calculate cosine similarity\n",
    "    # between 2 vectors\n",
    "    cos_similarity = lambda a, b: np.dot(a, b) / (np.linalg.norm(a) * np.linalg.norm(b))\n",
    "    \n",
    "    return cos_similarity(individual, target_word_bits)"
   ]
  },
  {
   "cell_type": "markdown",
   "metadata": {},
   "source": [
    "### 3. Select Mating Pool"
   ]
  },
  {
   "cell_type": "code",
   "execution_count": null,
   "metadata": {},
   "outputs": [],
   "source": [
    "def select_mating_pool(population, \n",
    "                       target_word_bits=target_word_bits, \n",
    "                       elite_size=20, \n",
    "                       selection_method='fitness-proportionate'):\n",
    "    '''\n",
    "    Function:\n",
    "    ---------\n",
    "    Generates new mating pool for \n",
    "    \n",
    "    Parameters:\n",
    "    -----------\n",
    "    \n",
    "    \n",
    "    Returns:\n",
    "    --------\n",
    "    '''\n",
    "    \n",
    "    def fitness_proportionate_selection():\n",
    "        '''\n",
    "        '''\n",
    "        return \n",
    "    \n",
    "    # Final mating pool\n",
    "    mating_pool = []\n",
    "    \n",
    "    # Get sorted list of individuals in population\n",
    "    # by cosine similarity with target_word_bits\n",
    "    # (fittest individuals at start of the list)\n",
    "    population_sorted_by_fitness = \\\n",
    "        sorted([(individual, fitness(individual)) for individual in population], \n",
    "               key=operator.itemgetter(1), \n",
    "               reverse=True)\n",
    "    \n",
    "    # Enforce elitism by copying a number\n",
    "    # of the fittest individuals to the mating pool\n",
    "    # and select the rest to fill the population\n",
    "    # using the selection methods below\n",
    "    mating_pool += population_sorted_by_fitness[:elite_size]\n",
    "    \n",
    "    # Choose method to select the individuals\n",
    "    # to fill up the rest of the non-elite \n",
    "    # mating pool\n",
    "    if selection_method == 'fitness-proportionate':\n",
    "        return mating_pool + fitness_proportionate_selection()"
   ]
  },
  {
   "cell_type": "markdown",
   "metadata": {},
   "source": [
    "### 4. Breed"
   ]
  },
  {
   "cell_type": "code",
   "execution_count": null,
   "metadata": {},
   "outputs": [],
   "source": []
  },
  {
   "cell_type": "markdown",
   "metadata": {},
   "source": [
    "### 5. Mutation "
   ]
  },
  {
   "cell_type": "code",
   "execution_count": null,
   "metadata": {},
   "outputs": [],
   "source": []
  },
  {
   "cell_type": "markdown",
   "metadata": {},
   "source": [
    "---\n",
    "## Covariance Matrix Adaptation - ES<a id='cma-es'></a>\n"
   ]
  },
  {
   "cell_type": "markdown",
   "metadata": {},
   "source": [
    "---\n",
    "## Particle Swarm Optimization "
   ]
  },
  {
   "cell_type": "markdown",
   "metadata": {},
   "source": [
    "---\n",
    "### Resources:\n",
    "- [Convert binary to ASCII and vice versa](https://stackoverflow.com/questions/7396849/convert-binary-to-ascii-and-vice-versa)\n",
    "- [Evolution of a salesman: A complete genetic algorithm tutorial for Python](https://towardsdatascience.com/evolution-of-a-salesman-a-complete-genetic-algorithm-tutorial-for-python-6fe5d2b3ca35)\n",
    "- [Evolutionary Algorithms Wiki](https://en.wikipedia.org/wiki/Evolutionary_algorithm)\n",
    "- [Selection methods for creating mating pool Wiki](https://en.wikipedia.org/wiki/Selection_(genetic_algorithm))"
   ]
  },
  {
   "cell_type": "code",
   "execution_count": null,
   "metadata": {},
   "outputs": [],
   "source": []
  }
 ],
 "metadata": {
  "kernelspec": {
   "display_name": "Python 3",
   "language": "python",
   "name": "python3"
  },
  "language_info": {
   "codemirror_mode": {
    "name": "ipython",
    "version": 3
   },
   "file_extension": ".py",
   "mimetype": "text/x-python",
   "name": "python",
   "nbconvert_exporter": "python",
   "pygments_lexer": "ipython3",
   "version": "3.7.3"
  }
 },
 "nbformat": 4,
 "nbformat_minor": 2
}
